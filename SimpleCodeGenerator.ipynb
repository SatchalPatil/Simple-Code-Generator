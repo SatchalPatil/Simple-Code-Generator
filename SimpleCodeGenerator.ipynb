{
  "cells": [
    {
      "cell_type": "code",
      "execution_count": 1,
      "metadata": {
        "colab": {
          "base_uri": "https://localhost:8080/",
          "height": 423
        },
        "id": "OGR7peP5JG5Y",
        "outputId": "bf83f4c0-33c7-4be6-f924-e65b147ab800"
      },
      "outputs": [
        {
          "data": {
            "text/html": [
              "<div>\n",
              "<style scoped>\n",
              "    .dataframe tbody tr th:only-of-type {\n",
              "        vertical-align: middle;\n",
              "    }\n",
              "\n",
              "    .dataframe tbody tr th {\n",
              "        vertical-align: top;\n",
              "    }\n",
              "\n",
              "    .dataframe thead th {\n",
              "        text-align: right;\n",
              "    }\n",
              "</style>\n",
              "<table border=\"1\" class=\"dataframe\">\n",
              "  <thead>\n",
              "    <tr style=\"text-align: right;\">\n",
              "      <th></th>\n",
              "      <th>Query</th>\n",
              "      <th>Code_Snippet</th>\n",
              "      <th>Language</th>\n",
              "      <th>Tags</th>\n",
              "    </tr>\n",
              "  </thead>\n",
              "  <tbody>\n",
              "    <tr>\n",
              "      <th>0</th>\n",
              "      <td>How to create a list comprehension in Python?</td>\n",
              "      <td>[x**2 for x in range(10)]</td>\n",
              "      <td>Python</td>\n",
              "      <td>tutorial</td>\n",
              "    </tr>\n",
              "    <tr>\n",
              "      <th>1</th>\n",
              "      <td>How to handle missing data in pandas?</td>\n",
              "      <td>df.fillna(0, inplace=True)</td>\n",
              "      <td>Python</td>\n",
              "      <td>example</td>\n",
              "    </tr>\n",
              "    <tr>\n",
              "      <th>2</th>\n",
              "      <td>How to use a lambda function in Python?</td>\n",
              "      <td>lambda x: x + 2</td>\n",
              "      <td>Python</td>\n",
              "      <td>advanced</td>\n",
              "    </tr>\n",
              "    <tr>\n",
              "      <th>3</th>\n",
              "      <td>How to create a REST API in Flask?</td>\n",
              "      <td>from flask import Flask\\napp = Flask(__name__)...</td>\n",
              "      <td>Python</td>\n",
              "      <td>tutorial</td>\n",
              "    </tr>\n",
              "    <tr>\n",
              "      <th>4</th>\n",
              "      <td>How to perform matrix multiplication in numpy?</td>\n",
              "      <td>import numpy as np\\nnp.dot(A, B)</td>\n",
              "      <td>Python</td>\n",
              "      <td>advanced</td>\n",
              "    </tr>\n",
              "    <tr>\n",
              "      <th>...</th>\n",
              "      <td>...</td>\n",
              "      <td>...</td>\n",
              "      <td>...</td>\n",
              "      <td>...</td>\n",
              "    </tr>\n",
              "    <tr>\n",
              "      <th>3015</th>\n",
              "      <td>How to implement a class in C++?</td>\n",
              "      <td>class MyClass {\\npublic:\\n    void myMethod() ...</td>\n",
              "      <td>C++</td>\n",
              "      <td>tutorial</td>\n",
              "    </tr>\n",
              "    <tr>\n",
              "      <th>3016</th>\n",
              "      <td>How to use pointers in C++?</td>\n",
              "      <td>int x = 10;\\nint* ptr = &amp;x;</td>\n",
              "      <td>C++</td>\n",
              "      <td>advanced</td>\n",
              "    </tr>\n",
              "    <tr>\n",
              "      <th>3017</th>\n",
              "      <td>How to read a file in C++?</td>\n",
              "      <td>#include &lt;fstream&gt;\\nstd::ifstream file('file.t...</td>\n",
              "      <td>C++</td>\n",
              "      <td>common-issues</td>\n",
              "    </tr>\n",
              "    <tr>\n",
              "      <th>3018</th>\n",
              "      <td>How to create a vector in C++?</td>\n",
              "      <td>#include &lt;vector&gt;\\nstd::vector&lt;int&gt; v = {1, 2,...</td>\n",
              "      <td>C++</td>\n",
              "      <td>tutorial</td>\n",
              "    </tr>\n",
              "    <tr>\n",
              "      <th>3019</th>\n",
              "      <td>How to overload operators in C++?</td>\n",
              "      <td>class Complex {\\n    Complex operator+(const C...</td>\n",
              "      <td>C++</td>\n",
              "      <td>tutorial</td>\n",
              "    </tr>\n",
              "  </tbody>\n",
              "</table>\n",
              "<p>3020 rows × 4 columns</p>\n",
              "</div>"
            ],
            "text/plain": [
              "                                               Query  \\\n",
              "0      How to create a list comprehension in Python?   \n",
              "1              How to handle missing data in pandas?   \n",
              "2            How to use a lambda function in Python?   \n",
              "3                 How to create a REST API in Flask?   \n",
              "4     How to perform matrix multiplication in numpy?   \n",
              "...                                              ...   \n",
              "3015                How to implement a class in C++?   \n",
              "3016                     How to use pointers in C++?   \n",
              "3017                      How to read a file in C++?   \n",
              "3018                  How to create a vector in C++?   \n",
              "3019               How to overload operators in C++?   \n",
              "\n",
              "                                           Code_Snippet Language  \\\n",
              "0                             [x**2 for x in range(10)]   Python   \n",
              "1                            df.fillna(0, inplace=True)   Python   \n",
              "2                                       lambda x: x + 2   Python   \n",
              "3     from flask import Flask\\napp = Flask(__name__)...   Python   \n",
              "4                      import numpy as np\\nnp.dot(A, B)   Python   \n",
              "...                                                 ...      ...   \n",
              "3015  class MyClass {\\npublic:\\n    void myMethod() ...      C++   \n",
              "3016                        int x = 10;\\nint* ptr = &x;      C++   \n",
              "3017  #include <fstream>\\nstd::ifstream file('file.t...      C++   \n",
              "3018  #include <vector>\\nstd::vector<int> v = {1, 2,...      C++   \n",
              "3019  class Complex {\\n    Complex operator+(const C...      C++   \n",
              "\n",
              "               Tags  \n",
              "0          tutorial  \n",
              "1           example  \n",
              "2          advanced  \n",
              "3          tutorial  \n",
              "4          advanced  \n",
              "...             ...  \n",
              "3015       tutorial  \n",
              "3016       advanced  \n",
              "3017  common-issues  \n",
              "3018       tutorial  \n",
              "3019       tutorial  \n",
              "\n",
              "[3020 rows x 4 columns]"
            ]
          },
          "execution_count": 1,
          "metadata": {},
          "output_type": "execute_result"
        }
      ],
      "source": [
        "import pandas as pd\n",
        "\n",
        "df = pd.read_csv(\"query&target.csv\")\n",
        "df"
      ]
    },
    {
      "cell_type": "code",
      "execution_count": 2,
      "metadata": {
        "colab": {
          "base_uri": "https://localhost:8080/",
          "height": 303
        },
        "id": "zfhWr4i9umTm",
        "outputId": "abaf6d5e-1e95-42b3-98f2-2b32b7c4ad7c"
      },
      "outputs": [
        {
          "data": {
            "text/plain": [
              "Language\n",
              "SQL           627\n",
              "Java          618\n",
              "Shell         601\n",
              "JavaScript    595\n",
              "Python        574\n",
              "C++             5\n",
              "Name: count, dtype: int64"
            ]
          },
          "execution_count": 2,
          "metadata": {},
          "output_type": "execute_result"
        }
      ],
      "source": [
        "df['Language'].value_counts()"
      ]
    },
    {
      "cell_type": "code",
      "execution_count": 3,
      "metadata": {
        "id": "UY9SVdvx_Nx2"
      },
      "outputs": [],
      "source": [
        "# Convert all text columns to lowercase\n",
        "df['Query'] = df['Query'].str.lower()\n",
        "df['Code_Snippet'] = df['Code_Snippet'].str.lower()\n",
        "df['Tags'] = df['Tags'].str.lower()"
      ]
    },
    {
      "cell_type": "markdown",
      "metadata": {
        "id": "5sIzGQhve_oc"
      },
      "source": [
        "# Tokenization"
      ]
    },
    {
      "cell_type": "code",
      "execution_count": 4,
      "metadata": {
        "id": "eXAw1AnxJPo_"
      },
      "outputs": [
        {
          "name": "stderr",
          "output_type": "stream",
          "text": [
            "c:\\Users\\Satchal Patil\\DATASCIPRAC\\DSP4codesnipp\\csg\\lib\\site-packages\\tqdm\\auto.py:21: TqdmWarning: IProgress not found. Please update jupyter and ipywidgets. See https://ipywidgets.readthedocs.io/en/stable/user_install.html\n",
            "  from .autonotebook import tqdm as notebook_tqdm\n",
            "You are using the default legacy behaviour of the <class 'transformers.models.t5.tokenization_t5.T5Tokenizer'>. This is expected, and simply means that the `legacy` (previous) behavior will be used so nothing changes for you. If you want to use the new behaviour, set `legacy=False`. This should only be set if you understand what it means, and thoroughly read the reason why this was added as explained in https://github.com/huggingface/transformers/pull/24565\n"
          ]
        }
      ],
      "source": [
        "from transformers import T5Tokenizer\n",
        "\n",
        "# Load the T5 tokenizer\n",
        "tokenizer = T5Tokenizer.from_pretrained(\"t5-small\")\n",
        "\n",
        "# Tokenize the dataset\n",
        "def preprocess_data(data):\n",
        "    inputs = [\"generate code: \" + query for query in data[\"Query\"]]\n",
        "    targets = data[\"Code_Snippet\"].tolist()\n",
        "    input_encodings = tokenizer(inputs, max_length=128, truncation=True, padding=\"max_length\", return_tensors=\"pt\")\n",
        "    target_encodings = tokenizer(targets, max_length=128, truncation=True, padding=\"max_length\", return_tensors=\"pt\")\n",
        "    return input_encodings, target_encodings\n",
        "\n",
        "input_encodings, target_encodings = preprocess_data(df)\n"
      ]
    },
    {
      "cell_type": "markdown",
      "metadata": {
        "id": "65v1Rbsfe9l2"
      },
      "source": [
        "# Dataset Preparation"
      ]
    },
    {
      "cell_type": "code",
      "execution_count": 5,
      "metadata": {
        "id": "2HrPLjwWJ1GS"
      },
      "outputs": [],
      "source": [
        "import torch\n",
        "\n",
        "class CodeSnippetDataset(torch.utils.data.Dataset):\n",
        "    def __init__(self, inputs, targets):\n",
        "        self.inputs = inputs\n",
        "        self.targets = targets\n",
        "\n",
        "    def __len__(self):\n",
        "        return len(self.inputs[\"input_ids\"])\n",
        "\n",
        "    def __getitem__(self, idx):\n",
        "        return {\n",
        "            \"input_ids\": self.inputs[\"input_ids\"][idx],\n",
        "            \"attention_mask\": self.inputs[\"attention_mask\"][idx],\n",
        "            \"labels\": self.targets[\"input_ids\"][idx],\n",
        "        }\n",
        "\n",
        "dataset = CodeSnippetDataset(input_encodings, target_encodings)\n"
      ]
    },
    {
      "cell_type": "markdown",
      "metadata": {
        "id": "VgRRNo6ee7pD"
      },
      "source": [
        "# fine Tune Model"
      ]
    },
    {
      "cell_type": "code",
      "execution_count": 6,
      "metadata": {
        "colab": {
          "base_uri": "https://localhost:8080/",
          "height": 339
        },
        "id": "GwPqFf21KGwU",
        "outputId": "7f741e54-c456-46d3-e9e4-caeabfd1518b"
      },
      "outputs": [
        {
          "name": "stderr",
          "output_type": "stream",
          "text": [
            "c:\\Users\\Satchal Patil\\DATASCIPRAC\\DSP4codesnipp\\csg\\lib\\site-packages\\transformers\\training_args.py:1575: FutureWarning: `evaluation_strategy` is deprecated and will be removed in version 4.46 of 🤗 Transformers. Use `eval_strategy` instead\n",
            "  warnings.warn(\n",
            "  0%|          | 0/3775 [00:00<?, ?it/s]Passing a tuple of `past_key_values` is deprecated and will be removed in Transformers v4.48.0. You should pass an instance of `EncoderDecoderCache` instead, e.g. `past_key_values=EncoderDecoderCache.from_legacy_cache(past_key_values)`.\n",
            " 13%|█▎        | 500/3775 [19:35<2:08:58,  2.36s/it]"
          ]
        },
        {
          "name": "stdout",
          "output_type": "stream",
          "text": [
            "{'loss': 1.0757, 'grad_norm': 3.024446487426758, 'learning_rate': 4.337748344370861e-05, 'epoch': 0.66}\n"
          ]
        },
        {
          "name": "stderr",
          "output_type": "stream",
          "text": [
            "                                                       \n",
            " 20%|██        | 755/3775 [1:13:07<1:48:03,  2.15s/it]"
          ]
        },
        {
          "name": "stdout",
          "output_type": "stream",
          "text": [
            "{'eval_loss': 0.06580698490142822, 'eval_runtime': 2075.7564, 'eval_samples_per_second': 1.455, 'eval_steps_per_second': 0.364, 'epoch': 1.0}\n"
          ]
        },
        {
          "name": "stderr",
          "output_type": "stream",
          "text": [
            " 26%|██▋       | 1000/3775 [1:22:16<1:49:48,  2.37s/it]  "
          ]
        },
        {
          "name": "stdout",
          "output_type": "stream",
          "text": [
            "{'loss': 0.2072, 'grad_norm': 0.4297788441181183, 'learning_rate': 3.675496688741722e-05, 'epoch': 1.32}\n"
          ]
        },
        {
          "name": "stderr",
          "output_type": "stream",
          "text": [
            " 40%|███▉      | 1500/3775 [1:47:07<1:45:36,  2.79s/it] "
          ]
        },
        {
          "name": "stdout",
          "output_type": "stream",
          "text": [
            "{'loss': 0.0792, 'grad_norm': 0.5843868851661682, 'learning_rate': 3.0132450331125826e-05, 'epoch': 1.99}\n"
          ]
        },
        {
          "name": "stderr",
          "output_type": "stream",
          "text": [
            "                                                       \n",
            " 40%|████      | 1510/3775 [1:56:19<1:40:54,  2.67s/it]"
          ]
        },
        {
          "name": "stdout",
          "output_type": "stream",
          "text": [
            "{'eval_loss': 0.011912385933101177, 'eval_runtime': 523.6683, 'eval_samples_per_second': 5.767, 'eval_steps_per_second': 1.442, 'epoch': 2.0}\n"
          ]
        },
        {
          "name": "stderr",
          "output_type": "stream",
          "text": [
            " 53%|█████▎    | 2000/3775 [4:27:14<1:30:37,  3.06s/it]     "
          ]
        },
        {
          "name": "stdout",
          "output_type": "stream",
          "text": [
            "{'loss': 0.0464, 'grad_norm': 0.2229871302843094, 'learning_rate': 2.3509933774834437e-05, 'epoch': 2.65}\n"
          ]
        },
        {
          "name": "stderr",
          "output_type": "stream",
          "text": [
            "                                                       \n",
            " 60%|██████    | 2265/3775 [4:48:49<1:09:26,  2.76s/it]"
          ]
        },
        {
          "name": "stdout",
          "output_type": "stream",
          "text": [
            "{'eval_loss': 0.00926603190600872, 'eval_runtime': 530.365, 'eval_samples_per_second': 5.694, 'eval_steps_per_second': 1.424, 'epoch': 3.0}\n"
          ]
        },
        {
          "name": "stderr",
          "output_type": "stream",
          "text": [
            " 66%|██████▌   | 2500/3775 [5:00:15<1:03:07,  2.97s/it]  "
          ]
        },
        {
          "name": "stdout",
          "output_type": "stream",
          "text": [
            "{'loss': 0.0293, 'grad_norm': 0.33369773626327515, 'learning_rate': 1.688741721854305e-05, 'epoch': 3.31}\n"
          ]
        },
        {
          "name": "stderr",
          "output_type": "stream",
          "text": [
            " 79%|███████▉  | 3000/3775 [5:23:21<33:44,  2.61s/it]  "
          ]
        },
        {
          "name": "stdout",
          "output_type": "stream",
          "text": [
            "{'loss': 0.0266, 'grad_norm': 0.25985684990882874, 'learning_rate': 1.0264900662251655e-05, 'epoch': 3.97}\n"
          ]
        },
        {
          "name": "stderr",
          "output_type": "stream",
          "text": [
            "                                                         \n",
            " 80%|████████  | 3020/3775 [5:43:56<7:34:07, 36.09s/it]"
          ]
        },
        {
          "name": "stdout",
          "output_type": "stream",
          "text": [
            "{'eval_loss': 0.008878319524228573, 'eval_runtime': 527.4107, 'eval_samples_per_second': 5.726, 'eval_steps_per_second': 1.432, 'epoch': 4.0}\n"
          ]
        },
        {
          "name": "stderr",
          "output_type": "stream",
          "text": [
            " 93%|█████████▎| 3500/3775 [14:50:09<32:57,  7.19s/it]      "
          ]
        },
        {
          "name": "stdout",
          "output_type": "stream",
          "text": [
            "{'loss': 0.0235, 'grad_norm': 0.1550307273864746, 'learning_rate': 3.642384105960265e-06, 'epoch': 4.64}\n"
          ]
        },
        {
          "name": "stderr",
          "output_type": "stream",
          "text": [
            "                                                           \n",
            "100%|██████████| 3775/3775 [16:49:26<00:00,  2.04s/it]"
          ]
        },
        {
          "name": "stdout",
          "output_type": "stream",
          "text": [
            "{'eval_loss': 0.008746174164116383, 'eval_runtime': 397.7146, 'eval_samples_per_second': 7.593, 'eval_steps_per_second': 1.898, 'epoch': 5.0}\n"
          ]
        },
        {
          "name": "stderr",
          "output_type": "stream",
          "text": [
            "There were missing keys in the checkpoint model loaded: ['encoder.embed_tokens.weight', 'decoder.embed_tokens.weight', 'lm_head.weight'].\n",
            "100%|██████████| 3775/3775 [16:49:27<00:00, 16.04s/it]"
          ]
        },
        {
          "name": "stdout",
          "output_type": "stream",
          "text": [
            "{'train_runtime': 60567.7384, 'train_samples_per_second': 0.249, 'train_steps_per_second': 0.062, 'train_loss': 0.19856325579005363, 'epoch': 5.0}\n"
          ]
        },
        {
          "name": "stderr",
          "output_type": "stream",
          "text": [
            "\n"
          ]
        },
        {
          "data": {
            "text/plain": [
              "TrainOutput(global_step=3775, training_loss=0.19856325579005363, metrics={'train_runtime': 60567.7384, 'train_samples_per_second': 0.249, 'train_steps_per_second': 0.062, 'total_flos': 510915300556800.0, 'train_loss': 0.19856325579005363, 'epoch': 5.0})"
            ]
          },
          "execution_count": 6,
          "metadata": {},
          "output_type": "execute_result"
        }
      ],
      "source": [
        "from transformers import T5ForConditionalGeneration, Trainer, TrainingArguments\n",
        "import torch\n",
        "\n",
        "# Check if CUDA (GPU) is available\n",
        "device = torch.device(\"cuda\" if torch.cuda.is_available() else \"cpu\")\n",
        "\n",
        "# Load T5 model and move it to the device (GPU or CPU)\n",
        "model = T5ForConditionalGeneration.from_pretrained(\"t5-small\").to(device)\n",
        "\n",
        "# Define training arguments with optimized settings\n",
        "training_args = TrainingArguments(\n",
        "    output_dir=\"./t5_finetuned\",\n",
        "    evaluation_strategy=\"epoch\",  # Evaluation after each epoch\n",
        "    save_strategy=\"epoch\",        # Save after each epoch\n",
        "    learning_rate=5e-5,\n",
        "    per_device_train_batch_size=4,  # Reduce batch size to 4\n",
        "    per_device_eval_batch_size=4,   # Reduce batch size to 4\n",
        "    num_train_epochs=5,            # Train for fewer epochs (\n",
        "    weight_decay=0.01,\n",
        "    logging_dir=\"./logs\",\n",
        "    logging_steps=500,             # Log less frequently\n",
        "    save_total_limit=1,            # Limit the number of saved models\n",
        "    load_best_model_at_end=True,\n",
        "    fp16=True,                     # Enable mixed precision to speed up training\n",
        ")\n",
        "\n",
        "# Create the Trainer\n",
        "trainer = Trainer(\n",
        "    model=model,\n",
        "    args=training_args,\n",
        "    train_dataset=dataset,\n",
        "    eval_dataset=dataset,\n",
        ")\n",
        "\n",
        "# Train the model\n",
        "trainer.train()\n"
      ]
    },
    {
      "cell_type": "markdown",
      "metadata": {
        "id": "dzXHnPFDe4nz"
      },
      "source": [
        "# Save Fine Tuned Model"
      ]
    },
    {
      "cell_type": "code",
      "execution_count": 8,
      "metadata": {
        "colab": {
          "base_uri": "https://localhost:8080/"
        },
        "id": "GHoe0LqaKS1R",
        "outputId": "8a161953-3ffd-4d32-8d11-ce9d4de2b9fc"
      },
      "outputs": [
        {
          "data": {
            "text/plain": [
              "('C:\\\\Users\\\\Satchal Patil\\\\DATASCIPRAC\\\\DSP4codesnipp\\\\tokenizer_config.json',\n",
              " 'C:\\\\Users\\\\Satchal Patil\\\\DATASCIPRAC\\\\DSP4codesnipp\\\\special_tokens_map.json',\n",
              " 'C:\\\\Users\\\\Satchal Patil\\\\DATASCIPRAC\\\\DSP4codesnipp\\\\spiece.model',\n",
              " 'C:\\\\Users\\\\Satchal Patil\\\\DATASCIPRAC\\\\DSP4codesnipp\\\\added_tokens.json')"
            ]
          },
          "execution_count": 8,
          "metadata": {},
          "output_type": "execute_result"
        }
      ],
      "source": [
        "model.save_pretrained(r\"C:\\Users\\Satchal Patil\\DATASCIPRAC\\DSP4codesnipp\")\n",
        "\n",
        "tokenizer.save_pretrained(r\"C:\\Users\\Satchal Patil\\DATASCIPRAC\\DSP4codesnipp\")"
      ]
    },
    {
      "cell_type": "markdown",
      "metadata": {
        "id": "RLu3tBljezeV"
      },
      "source": [
        "# Searh Engine (Code Snipet Generation System)"
      ]
    },
    {
      "cell_type": "code",
      "execution_count": 12,
      "metadata": {
        "colab": {
          "base_uri": "https://localhost:8080/"
        },
        "id": "_R39Tt43NS6f",
        "outputId": "7e2411b9-c54d-450a-d8ca-b7a8d5cd3e60"
      },
      "outputs": [
        {
          "name": "stdout",
          "output_type": "stream",
          "text": [
            "\n",
            " Code Snipet : \n",
            " async function fetchdata()  const response = await fetch(url); return await response.json();\n",
            "\n",
            " Code Snipet : \n",
            " df.fillna(0, inplace=true)\n",
            "\n",
            "Good Bye...\n"
          ]
        }
      ],
      "source": [
        "from transformers import T5Tokenizer, T5ForConditionalGeneration\n",
        "\n",
        "# Load the fine-tuned model\n",
        "model = T5ForConditionalGeneration.from_pretrained(r\"C:\\Users\\Satchal Patil\\DATASCIPRAC\\DSP4codesnipp\\t5_finetuned\\checkpoint-3775\")\n",
        "tokenizer = T5Tokenizer.from_pretrained(r\"C:\\Users\\Satchal Patil\\DATASCIPRAC\\DSP4codesnipp\\t5_finetuned\\checkpoint-3775\")\n",
        "\n",
        "# Define a function for inference\n",
        "def generate_code(query):\n",
        "    query = query.lower()\n",
        "    input_text = \"generate code: \" + query\n",
        "    input_ids = tokenizer.encode(input_text, return_tensors=\"pt\", truncation=True)\n",
        "    outputs = model.generate(input_ids, max_length=512, num_beams=4, early_stopping=True)\n",
        "    return tokenizer.decode(outputs[0], skip_special_tokens=True)\n",
        "\n",
        "# Example Usage\n",
        "while True:\n",
        "  query = input(\"\\n\\nYour Query or type (exit) to leave : \\n  \")\n",
        "  if query == \"exit\":\n",
        "    print(\"\\nGood Bye...\")\n",
        "    break\n",
        "  code = generate_code(query)\n",
        "  print(\"\\n Code Snippet : \\n\", code)"
      ]
    },
    {
      "cell_type": "code",
      "execution_count": null,
      "metadata": {
        "id": "ltdZC5LyGret"
      },
      "outputs": [],
      "source": []
    },
    {
      "cell_type": "code",
      "execution_count": null,
      "metadata": {
        "id": "Xe7oO1h9Gr4G"
      },
      "outputs": [],
      "source": []
    }
  ],
  "metadata": {
    "accelerator": "GPU",
    "colab": {
      "gpuType": "T4",
      "provenance": []
    },
    "kernelspec": {
      "display_name": "csg",
      "language": "python",
      "name": "python3"
    },
    "language_info": {
      "codemirror_mode": {
        "name": "ipython",
        "version": 3
      },
      "file_extension": ".py",
      "mimetype": "text/x-python",
      "name": "python",
      "nbconvert_exporter": "python",
      "pygments_lexer": "ipython3",
      "version": "3.10.11"
    }
  },
  "nbformat": 4,
  "nbformat_minor": 0
}
